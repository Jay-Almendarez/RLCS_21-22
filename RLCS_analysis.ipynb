{
 "cells": [
  {
   "cell_type": "markdown",
   "id": "7c83bfdb-80cb-4679-b22f-51cfa62e7986",
   "metadata": {},
   "source": [
    "# RLCS 2021-2022"
   ]
  },
  {
   "cell_type": "markdown",
   "id": "b4750ede-c5f4-4ecd-9733-7b54bd438413",
   "metadata": {},
   "source": [
    "## Imports"
   ]
  },
  {
   "cell_type": "code",
   "execution_count": 1,
   "id": "d8576d29-e283-48b8-bf4b-4db9ab4adafc",
   "metadata": {
    "tags": []
   },
   "outputs": [],
   "source": [
    "import pandas as pd\n",
    "import numpy as np"
   ]
  },
  {
   "cell_type": "code",
   "execution_count": 2,
   "id": "ae81b7d5-9e87-4ce2-a03a-8482904ede60",
   "metadata": {
    "tags": []
   },
   "outputs": [
    {
     "name": "stderr",
     "output_type": "stream",
     "text": [
      "/var/folders/n4/ryhws9s50jx0nwfxd11p6gjw0000gn/T/ipykernel_32194/939092126.py:1: DtypeWarning: Columns (92) have mixed types. Specify dtype option on import or set low_memory=False.\n",
      "  players = pd.read_csv('games_by_players.csv')\n"
     ]
    }
   ],
   "source": [
    "players = pd.read_csv('games_by_players.csv')\n",
    "teams = pd.read_csv('games_by_teams.csv')"
   ]
  },
  {
   "cell_type": "code",
   "execution_count": 4,
   "id": "f7463db7-a93d-4292-964f-177ed44e055d",
   "metadata": {
    "tags": []
   },
   "outputs": [
    {
     "data": {
      "text/plain": [
       "Index(['game_id', 'color', 'team_id', 'team_region', 'player_id', 'player_tag',\n",
       "       'core_shots', 'core_goals', 'core_saves', 'core_assists',\n",
       "       ...\n",
       "       'car_id', 'car_name', 'steering_sensitivity', 'camera_fov',\n",
       "       'camera_height', 'camera_pitch', 'camera_distance', 'camera_stiffness',\n",
       "       'camera_swivel_speed', 'camera_transition_speed'],\n",
       "      dtype='object', length=103)"
      ]
     },
     "execution_count": 4,
     "metadata": {},
     "output_type": "execute_result"
    }
   ],
   "source": [
    "players.columns"
   ]
  },
  {
   "cell_type": "code",
   "execution_count": 5,
   "id": "b7faa3cc-7123-4bc1-9fd8-a424e392e6c2",
   "metadata": {
    "tags": []
   },
   "outputs": [
    {
     "data": {
      "text/plain": [
       "Index(['game_id', 'color', 'team_id', 'team_slug', 'team_name', 'team_region',\n",
       "       'ball_possession_time', 'ball_time_in_side', 'core_shots', 'core_goals',\n",
       "       'core_saves', 'core_assists', 'core_score', 'core_shooting_percentage',\n",
       "       'boost_bpm', 'boost_bcpm', 'boost_avg_amount', 'boost_amount_collected',\n",
       "       'boost_amount_stolen', 'boost_amount_collected_big',\n",
       "       'boost_amount_stolen_big', 'boost_amount_collected_small',\n",
       "       'boost_amount_stolen_small', 'boost_count_collected_big',\n",
       "       'boost_count_stolen_big', 'boost_count_collected_small',\n",
       "       'boost_count_stolen_small', 'boost_amount_overfill',\n",
       "       'boost_amount_overfill_stolen', 'boost_amount_used_while_supersonic',\n",
       "       'boost_time_zero_boost', 'boost_time_full_boost',\n",
       "       'boost_time_boost_0_25', 'boost_time_boost_25_50',\n",
       "       'boost_time_boost_50_75', 'boost_time_boost_75_100',\n",
       "       'movement_total_distance', 'movement_time_supersonic_speed',\n",
       "       'movement_time_boost_speed', 'movement_time_slow_speed',\n",
       "       'movement_time_ground', 'movement_time_low_air',\n",
       "       'movement_time_high_air', 'movement_time_powerslide',\n",
       "       'movement_count_powerslide', 'positioning_time_defensive_third',\n",
       "       'positioning_time_neutral_third', 'positioning_time_offensive_third',\n",
       "       'positioning_time_defensive_half', 'positioning_time_offensive_half',\n",
       "       'positioning_time_behind_ball', 'positioning_time_in_front_ball',\n",
       "       'demo_inflicted', 'demo_taken', 'winner'],\n",
       "      dtype='object')"
      ]
     },
     "execution_count": 5,
     "metadata": {},
     "output_type": "execute_result"
    }
   ],
   "source": [
    "teams.columns"
   ]
  }
 ],
 "metadata": {
  "kernelspec": {
   "display_name": "Python 3 (ipykernel)",
   "language": "python",
   "name": "python3"
  },
  "language_info": {
   "codemirror_mode": {
    "name": "ipython",
    "version": 3
   },
   "file_extension": ".py",
   "mimetype": "text/x-python",
   "name": "python",
   "nbconvert_exporter": "python",
   "pygments_lexer": "ipython3",
   "version": "3.11.5"
  }
 },
 "nbformat": 4,
 "nbformat_minor": 5
}
